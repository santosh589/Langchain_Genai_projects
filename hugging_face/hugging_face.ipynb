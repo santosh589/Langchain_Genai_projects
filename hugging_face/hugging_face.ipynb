{
 "cells": [
  {
   "cell_type": "code",
   "execution_count": 2,
   "id": "23849893",
   "metadata": {},
   "outputs": [],
   "source": [
    "from langchain_community.document_loaders import PyPDFLoader\n",
    "from langchain_community.document_loaders import PyPDFDirectoryLoader\n",
    "from langchain.text_splitter import RecursiveCharacterTextSplitter\n",
    "from langchain_community.vectorstores import FAISS"
   ]
  },
  {
   "cell_type": "code",
   "execution_count": 7,
   "id": "0b9c4b61",
   "metadata": {},
   "outputs": [],
   "source": [
    "from langchain_community.embeddings import HuggingFaceBgeEmbeddings\n",
    "from langchain.prompts import PromptTemplate\n",
    "\n",
    "from langchain.chains import RetrievalQA\n",
    "\n",
    "import  numpy as np"
   ]
  },
  {
   "cell_type": "code",
   "execution_count": 5,
   "id": "b3b31454",
   "metadata": {},
   "outputs": [],
   "source": [
    "## Read the ppdfs from the folder\n",
    "loader=PyPDFDirectoryLoader(\"./us_census\")\n",
    "\n",
    "documents=loader.load()\n",
    "\n",
    "text_splitter=RecursiveCharacterTextSplitter(chunk_size=1000,chunk_overlap=200)\n",
    "\n",
    "final_documents=text_splitter.split_documents(documents)"
   ]
  },
  {
   "cell_type": "code",
   "execution_count": 6,
   "id": "7c1ff41e",
   "metadata": {},
   "outputs": [
    {
     "data": {
      "text/plain": [
       "Document(metadata={'producer': 'Adobe PDF Library 17.0', 'creator': 'Adobe InDesign 18.2 (Windows)', 'creationdate': '2023-09-09T07:52:17-04:00', 'author': 'U.S. Census Bureau', 'keywords': 'acsbr-015', 'moddate': '2023-09-12T14:44:47+01:00', 'title': 'Health Insurance Coverage Status and Type by Geography: 2021 and 2022', 'trapped': '/false', 'source': 'us_census\\\\acsbr-015.pdf', 'total_pages': 18, 'page': 0, 'page_label': '1'}, page_content='Health Insurance Coverage Status and Type \\nby Geography: 2021 and 2022\\nAmerican Community Survey Briefs\\nACSBR-015\\nIssued September 2023\\nDouglas Conway and Breauna Branch\\nINTRODUCTION\\nDemographic shifts as well as economic and govern-\\nment policy changes can affect people’s access to \\nhealth coverage. For example, between 2021 and 2022, \\nthe labor market continued to improve, which may \\nhave affected private coverage in the United States \\nduring that time.1 Public policy changes included \\nthe renewal of the Public Health Emergency, which \\nallowed Medicaid enrollees to remain covered under \\nthe Continuous Enrollment Provision.2 The American \\nRescue Plan (ARP) enhanced Marketplace premium \\nsubsidies for those with incomes above 400 percent \\nof the poverty level as well as for unemployed people.3\\nIn addition to national policies, individual states and \\nthe District of Columbia can affect health insurance \\ncoverage by making Marketplace or Medicaid more')"
      ]
     },
     "execution_count": 6,
     "metadata": {},
     "output_type": "execute_result"
    }
   ],
   "source": [
    "final_documents[0]"
   ]
  },
  {
   "cell_type": "code",
   "execution_count": 10,
   "id": "5d362d9e",
   "metadata": {},
   "outputs": [
    {
     "name": "stderr",
     "output_type": "stream",
     "text": [
      "c:\\I39106\\DSP\\Langchain\\chatbot\\myenv\\lib\\site-packages\\tqdm\\auto.py:21: TqdmWarning: IProgress not found. Please update jupyter and ipywidgets. See https://ipywidgets.readthedocs.io/en/stable/user_install.html\n",
      "  from .autonotebook import tqdm as notebook_tqdm\n",
      "c:\\I39106\\DSP\\Langchain\\chatbot\\myenv\\lib\\site-packages\\huggingface_hub\\file_download.py:144: UserWarning: `huggingface_hub` cache-system uses symlinks by default to efficiently store duplicated files but your machine does not support them in C:\\Users\\i39106\\.cache\\huggingface\\hub\\models--BAAI--bge-small-en-v1.5. Caching files will still work but in a degraded version that might require more space on your disk. This warning can be disabled by setting the `HF_HUB_DISABLE_SYMLINKS_WARNING` environment variable. For more details, see https://huggingface.co/docs/huggingface_hub/how-to-cache#limitations.\n",
      "To support symlinks on Windows, you either need to activate Developer Mode or to run Python as an administrator. In order to activate developer mode, see this article: https://docs.microsoft.com/en-us/windows/apps/get-started/enable-your-device-for-development\n",
      "  warnings.warn(message)\n"
     ]
    }
   ],
   "source": [
    "## Embedding Using Huggingface\n",
    "huggingface_embeddings=HuggingFaceBgeEmbeddings(\n",
    "    model_name=\"BAAI/bge-small-en-v1.5\",      #sentence-transformers/all-MiniLM-l6-v2\n",
    "    model_kwargs={'device':'cpu'},\n",
    "    encode_kwargs={'normalize_embeddings':True}\n",
    "\n",
    ")\n"
   ]
  },
  {
   "cell_type": "code",
   "execution_count": 11,
   "id": "cbb0c134",
   "metadata": {},
   "outputs": [
    {
     "name": "stdout",
     "output_type": "stream",
     "text": [
      "[-0.07903483 -0.01134115 -0.02312097  0.02844463  0.05053344  0.05317824\n",
      " -0.01907787  0.03456024 -0.10211369 -0.02915699  0.0852426   0.05650729\n",
      " -0.02545436 -0.0330849  -0.00635736  0.04090863 -0.00628109  0.00356742\n",
      " -0.03854132  0.03667684 -0.042898    0.03425251 -0.03116901 -0.03793729\n",
      "  0.01728393  0.01214924  0.00653118  0.01463566 -0.05529055 -0.15320708\n",
      "  0.00730848  0.03202943 -0.04701126 -0.01595975  0.01874448  0.02642937\n",
      " -0.02306377  0.0843804   0.04182489  0.05278175 -0.03057599  0.01564262\n",
      " -0.01689075  0.00529409 -0.02417435  0.00412995 -0.01889935 -0.00150625\n",
      " -0.00836943 -0.03390065  0.03515958 -0.00553133  0.04910936  0.05971858\n",
      "  0.05615959 -0.05105155  0.01475134 -0.01849959 -0.0328464   0.03576626\n",
      "  0.04947706 -0.00938882 -0.26202118  0.09750332  0.01715692  0.04781384\n",
      " -0.00556321 -0.00298306 -0.02207356 -0.04463671 -0.05760485  0.04815874\n",
      " -0.05522207  0.01635332  0.03299245  0.02147077  0.01296216  0.01462307\n",
      "  0.02174953 -0.00202998  0.02099536  0.03353845 -0.00345111 -0.04823537\n",
      "  0.05149959 -0.08948107  0.04491429 -0.03423373  0.02495744 -0.03332323\n",
      " -0.04124893  0.01226975  0.00551146  0.0281365   0.00750809  0.03364131\n",
      " -0.00718589 -0.00677305 -0.02375998  0.34350553 -0.02040542  0.00967849\n",
      " -0.00936512  0.01524743 -0.00692595 -0.0580374  -0.00443029  0.01115698\n",
      "  0.01746198  0.01258481  0.0215861  -0.02646191  0.0102677   0.04782213\n",
      " -0.03718096 -0.01986199  0.04008092  0.0157484   0.09363519 -0.02635873\n",
      " -0.01393856  0.03410937 -0.01630286 -0.04708789  0.02137171  0.06708886\n",
      "  0.05438903  0.15054181  0.0344439  -0.04218604  0.10422418 -0.04002279\n",
      " -0.00191298  0.00459118 -0.00292593  0.00371354 -0.02687683  0.03972115\n",
      " -0.00739631  0.05129853  0.006987   -0.00043551 -0.00752806 -0.13413781\n",
      " -0.03140993  0.17964654 -0.0215257   0.04534228  0.02027218 -0.01826411\n",
      " -0.04439811  0.04787034 -0.0380155   0.04057757 -0.03817712  0.01659363\n",
      " -0.00368183  0.02469142 -0.02634714 -0.0672743   0.05705411 -0.03698836\n",
      " -0.05754098  0.01774044  0.04163105 -0.0269981  -0.01342316 -0.06434496\n",
      "  0.02320635  0.00476098  0.01345853  0.05142655  0.0182884  -0.02267209\n",
      "  0.08680935  0.02288986 -0.02278559 -0.00261807 -0.00936065 -0.05964361\n",
      "  0.00370071 -0.02772141 -0.05116596 -0.04951674 -0.01691759 -0.04342573\n",
      " -0.06551474  0.05782724  0.04989289 -0.01559616 -0.00385898  0.00827752\n",
      " -0.06377076  0.01969861 -0.01933415 -0.01095797 -0.05990799 -0.02187358\n",
      "  0.03869355 -0.02963533 -0.03095982  0.02629451  0.00857689 -0.00225382\n",
      " -0.00917327  0.02006881  0.02308834 -0.06949826  0.03825645 -0.01321396\n",
      "  0.00288256  0.04065883  0.03197157  0.00364806  0.03610993  0.01653042\n",
      "  0.01282878 -0.02190453  0.02050883  0.03220988  0.03351386  0.06819047\n",
      "  0.09490161 -0.27463821 -0.00499026  0.00181545  0.00687727 -0.06947188\n",
      " -0.05266644 -0.045476    0.02707843  0.00403479  0.08909723  0.06208606\n",
      " -0.0081741  -0.02176251  0.10530713  0.02105071 -0.08313887  0.0264829\n",
      " -0.02122214 -0.01542386 -0.00282381  0.00493171  0.00487721 -0.06012278\n",
      " -0.02174245  0.08150735 -0.01746732  0.06210529 -0.05241905 -0.07425194\n",
      "  0.00045818 -0.05536216  0.05762164 -0.00776097 -0.11965964  0.06155293\n",
      "  0.01773322 -0.07490139  0.0043435  -0.06374461 -0.03096172 -0.02682651\n",
      "  0.05158743 -0.06356603  0.02999001 -0.01865462 -0.05194328  0.04636512\n",
      "  0.07127582 -0.08020446  0.01025253  0.00649387 -0.03402685 -0.03371226\n",
      " -0.0147609   0.02565076 -0.06251816 -0.03164578  0.03269228 -0.01906625\n",
      " -0.00269569  0.02393796  0.00502714  0.04807225 -0.00441301 -0.00810786\n",
      " -0.04506416  0.01010006 -0.03085291 -0.0709132   0.00998589  0.00276082\n",
      "  0.04710479 -0.02302789 -0.02459349  0.01797342 -0.02112836  0.04660879\n",
      " -0.00104208 -0.00374577 -0.04950181  0.04251795 -0.0573385   0.02055237\n",
      "  0.04219674 -0.01167059  0.01241852  0.01056793  0.00663806 -0.01598003\n",
      "  0.01632801 -0.02056748 -0.01553829 -0.01156683 -0.01864403  0.00332141\n",
      "  0.00658679 -0.21910885  0.04714743  0.02075717 -0.02441517 -0.00868848\n",
      " -0.01634118 -0.0249912   0.00766707 -0.01083085 -0.02472528  0.05254843\n",
      "  0.08288427  0.11848129 -0.01936331 -0.00433766  0.00458099  0.06947742\n",
      "  0.00124528  0.02368699 -0.03457185  0.0616396  -0.06045356  0.1464009\n",
      " -0.03099667  0.01726849 -0.06827354 -0.0164134   0.03765272 -0.03385305\n",
      "  0.01721653  0.02592444 -0.00034789  0.02241217 -0.01919532  0.05005867\n",
      "  0.0083414   0.00977346  0.05592789  0.00274984  0.02592715 -0.04995013\n",
      " -0.02017874  0.02317919  0.01068105  0.064628   -0.02950337 -0.04529899\n",
      " -0.06358045 -0.01058143  0.06793746  0.00993983 -0.02914156  0.00441981\n",
      "  0.01224195 -0.0569934  -0.01181844 -0.06126489  0.03326272  0.00284467\n",
      " -0.01248829  0.02214624  0.04263514 -0.07597521  0.01234052  0.06002008]\n",
      "(384,)\n"
     ]
    }
   ],
   "source": [
    "\n",
    "print(np.array(huggingface_embeddings.embed_query(final_documents[0].page_content)))\n",
    "print(np.array(huggingface_embeddings.embed_query(final_documents[0].page_content)).shape)\n"
   ]
  },
  {
   "cell_type": "code",
   "execution_count": 12,
   "id": "70a3bd63",
   "metadata": {},
   "outputs": [],
   "source": [
    "## VectorStore Creation\n",
    "vectorstore=FAISS.from_documents(final_documents[:120],huggingface_embeddings)"
   ]
  },
  {
   "cell_type": "code",
   "execution_count": null,
   "id": "13ac0065",
   "metadata": {},
   "outputs": [
    {
     "name": "stdout",
     "output_type": "stream",
     "text": [
      "*Georgia\n",
      "Wisconsin\n",
      "Tennessee\n",
      "North Carolina\n",
      "Florida\n",
      "*Alabama\n",
      "South Carolina\n",
      "Mississippi\n",
      "* Denotes a statistically signiﬁcant change between 2021 and 2022 at the 90 percent conﬁdence level.\n",
      "Note: State Medicaid expansion status in 2022 is used to compare change between 2021 and 2022. For more information on expansion states, \n",
      "refer to Appendix Table A-1. For information on conﬁdentiality protection, sampling error, nonsampling error, and deﬁnitions in the American \n",
      "Community Survey, refer to <https://www2.census.gov/programs-surveys/acs/tech_docs/accuracy/ACS_Accuracy_of_Data_2022.pdf>.\n",
      "Source: U.S. Census Bureau, 2021 and 2022 American Community Survey, 1-year estimates.\n",
      "/two.tab/zero.tab/one.tab/zero.tab/zero.tab /three.tab/zero.tab /four.tab/zero.tab /five.tab/zero.tab /six.tab/zero.tab\n",
      "United States\n",
      "Expansion states\n",
      "Nonexpansion states\n",
      "/two.tab/zero.tab/two.tab/one.tab   /two.tab/zero.tab/two.tab/two.tab\n"
     ]
    }
   ],
   "source": [
    "## Query using Similarity Search\n",
    "query=\"WHAT IS THE AMERICAN COMMUNITY SURVEY?\"\n",
    "relevant_docments=vectorstore.similarity_search(query)\n",
    "\n",
    "print(relevant_docments[1].page_content)\n"
   ]
  },
  {
   "cell_type": "code",
   "execution_count": 18,
   "id": "40996872",
   "metadata": {},
   "outputs": [
    {
     "name": "stdout",
     "output_type": "stream",
     "text": [
      "tags=['FAISS', 'HuggingFaceBgeEmbeddings'] vectorstore=<langchain_community.vectorstores.faiss.FAISS object at 0x00000200803F0460> search_kwargs={'k': 3}\n"
     ]
    }
   ],
   "source": [
    "retriever=vectorstore.as_retriever(search_type=\"similarity\",search_kwargs={\"k\":3})\n",
    "print(retriever)\n"
   ]
  },
  {
   "cell_type": "code",
   "execution_count": 46,
   "id": "70ba9591",
   "metadata": {},
   "outputs": [],
   "source": [
    "import os\n",
    "os.environ[\"HUGGINGFACEHUB_API_TOKEN\"]=os.getenv(\"HUGGINGFACEHUB_API_TOKEN\")\n"
   ]
  },
  {
   "cell_type": "code",
   "execution_count": 30,
   "id": "a6f155c7",
   "metadata": {},
   "outputs": [
    {
     "name": "stderr",
     "output_type": "stream",
     "text": [
      "c:\\I39106\\DSP\\Langchain\\chatbot\\myenv\\lib\\site-packages\\huggingface_hub\\utils\\_deprecation.py:131: FutureWarning: 'post' (from 'huggingface_hub.inference._client') is deprecated and will be removed from version '0.31.0'. Making direct POST requests to the inference server is not supported anymore. Please use task methods instead (e.g. `InferenceClient.chat_completion`). If your use case is not supported, please open an issue in https://github.com/huggingface/huggingface_hub.\n",
      "  warnings.warn(warning_message, FutureWarning)\n"
     ]
    },
    {
     "data": {
      "text/plain": [
       "\"What is the health insurance coverage?\\n\\nHealth insurance coverage is a type of insurance that helps pay for medical expenses, such as doctor visits, hospital stays, and prescription drugs. It can also cover preventive care, such as vaccinations and screenings. Health insurance can be provided by an employer, purchased individually, or obtained through a government program, such as Medicare or Medicaid.\\n\\nThere are different types of health insurance plans, including HMOs, PPOs, and high-deductible health plans. Each type of plan has its own set of benefits, costs, and restrictions. It's important to understand the details of a health insurance plan before enrolling to ensure that it meets your needs and budget.\\n\\nHealth insurance is important because medical care can be expensive, and without insurance, many people would not be able to afford the care they need. Having health insurance can help protect you from financial hardship in the event of an unexpected illness or injury. It can also provide peace of mind, knowing that you have access to the care you need when you need it.\""
      ]
     },
     "execution_count": 30,
     "metadata": {},
     "output_type": "execute_result"
    }
   ],
   "source": [
    "from langchain_community.llms import HuggingFaceHub\n",
    "\n",
    "hf=HuggingFaceHub(\n",
    "    repo_id=\"mistralai/Mistral-7B-Instruct-v0.3\",\n",
    "    model_kwargs={\"temperature\":0.1,\"max_length\":500}\n",
    "\n",
    ")\n",
    "query=\"What is the health insurance coverage?\"\n",
    "hf.invoke(query)\n"
   ]
  },
  {
   "cell_type": "code",
   "execution_count": 32,
   "id": "d3a64827",
   "metadata": {},
   "outputs": [],
   "source": [
    "\n",
    "prompt_template=\"\"\"\n",
    "Use the following piece of context to answer the question asked.\n",
    "Please try to provide the answer only based on the context\n",
    "\n",
    "{context}\n",
    "Question:{question}\n",
    "\n",
    "Helpful Answers:\n",
    " \"\"\"\n"
   ]
  },
  {
   "cell_type": "code",
   "execution_count": 35,
   "id": "13fe7db6",
   "metadata": {},
   "outputs": [],
   "source": [
    "prompt=PromptTemplate(template=prompt_template,input_variables=[\"context\",\"question\"])"
   ]
  },
  {
   "cell_type": "code",
   "execution_count": 36,
   "id": "4ca9fdbf",
   "metadata": {},
   "outputs": [],
   "source": [
    "retrievalQA=RetrievalQA.from_chain_type(\n",
    "    llm=hf,\n",
    "    chain_type=\"stuff\",\n",
    "    retriever=retriever,\n",
    "    return_source_documents=True,\n",
    "    chain_type_kwargs={\"prompt\":prompt}\n",
    ")\n"
   ]
  },
  {
   "cell_type": "code",
   "execution_count": 44,
   "id": "c231d8e4",
   "metadata": {},
   "outputs": [],
   "source": [
    "\n",
    "\n",
    "query=\"\"\"CHANGES IN PUBLIC COVERAGE BY STATE FROM 2021 TO 2022?\"\"\"\n"
   ]
  },
  {
   "cell_type": "code",
   "execution_count": 45,
   "id": "32df42a5",
   "metadata": {},
   "outputs": [
    {
     "name": "stderr",
     "output_type": "stream",
     "text": [
      "c:\\I39106\\DSP\\Langchain\\chatbot\\myenv\\lib\\site-packages\\huggingface_hub\\utils\\_deprecation.py:131: FutureWarning: 'post' (from 'huggingface_hub.inference._client') is deprecated and will be removed from version '0.31.0'. Making direct POST requests to the inference server is not supported anymore. Please use task methods instead (e.g. `InferenceClient.chat_completion`). If your use case is not supported, please open an issue in https://github.com/huggingface/huggingface_hub.\n",
      "  warnings.warn(warning_message, FutureWarning)\n"
     ]
    },
    {
     "name": "stdout",
     "output_type": "stream",
     "text": [
      "\n",
      "Use the following piece of context to answer the question asked.\n",
      "Please try to provide the answer only based on the context\n",
      "\n",
      "not experience a change to the pri-\n",
      "vate coverage rate, nonexpansion \n",
      "states as a group had an increase \n",
      "of 0.8 percentage points.\n",
      "CHANGES IN PUBLIC \n",
      "COVERAGE BY STATE FROM \n",
      "2021 TO 2022\n",
      "In 2022, 13 states saw increases in \n",
      "public health insurance coverage \n",
      "while only one state, Rhode Island, \n",
      "had a decrease. This led to an \n",
      "increased public coverage rate for \n",
      "the nation overall at 37.2 percent \n",
      "in 2022. As with private cover-\n",
      "age, changes in the distribution \n",
      "of public coverage subtypes (e.g., \n",
      "Medicaid) may affect the overall \n",
      "public coverage rate. Rhode Island \n",
      "reported a decrease in public \n",
      "coverage of 2.2 percentage points, \n",
      "which was driven by a decrease \n",
      "in people reporting Medicaid (2.3 \n",
      "percentage points) (Figure 4 and \n",
      "Appendix Table B-3).26 Increases in \n",
      "public health insurance coverage \n",
      "ranged from 0.6 percentage points \n",
      "to 2.3 percentage points across \n",
      "states.\n",
      "At the time of interview, 21.2 \n",
      "percent of people were cov-\n",
      "ered through Medicaid in 2022.\n",
      "\n",
      "*Georgia\n",
      "Wisconsin\n",
      "Tennessee\n",
      "North Carolina\n",
      "Florida\n",
      "*Alabama\n",
      "South Carolina\n",
      "Mississippi\n",
      "* Denotes a statistically signiﬁcant change between 2021 and 2022 at the 90 percent conﬁdence level.\n",
      "Note: State Medicaid expansion status in 2022 is used to compare change between 2021 and 2022. For more information on expansion states, \n",
      "refer to Appendix Table A-1. For information on conﬁdentiality protection, sampling error, nonsampling error, and deﬁnitions in the American \n",
      "Community Survey, refer to <https://www2.census.gov/programs-surveys/acs/tech_docs/accuracy/ACS_Accuracy_of_Data_2022.pdf>.\n",
      "Source: U.S. Census Bureau, 2021 and 2022 American Community Survey, 1-year estimates.\n",
      "/two.tab/zero.tab/one.tab/zero.tab/zero.tab /three.tab/zero.tab /four.tab/zero.tab /five.tab/zero.tab /six.tab/zero.tab\n",
      "United States\n",
      "Expansion states\n",
      "Nonexpansion states\n",
      "/two.tab/zero.tab/two.tab/one.tab   /two.tab/zero.tab/two.tab/two.tab\n",
      "\n",
      "Georgia\n",
      "*South Carolina\n",
      "Alabama\n",
      "Tennessee\n",
      "*North Carolina\n",
      "Wyoming\n",
      "Wisconsin\n",
      "South Dakota\n",
      "*Kansas\n",
      "* Denotes a statistically signiﬁcant change between 2021 and 2022 at the 90 percent conﬁdence level.\n",
      "Note: State Medicaid expansion status in 2022 is used to compare change between 2021 and 2022. For more information on expansion states, \n",
      "refer to Appendix Table A-1. For information on conﬁdentiality protection, sampling error, nonsampling error, and deﬁnitions in the American \n",
      "Community Survey, refer to <https://www2.census.gov/programs-surveys/acs/tech_docs/accuracy/ACS_Accuracy_of_Data_2022.pdf>.\n",
      "Source: U.S. Census Bureau, 2021 and 2022 American Community Survey, 1-year estimates.\n",
      "/zero.tab /four.tab/zero.tab /five.tab/zero.tab /six.tab/zero.tab /seven.tab/zero.tab /eight.tab/zero.tab /nine.tab/zero.tab\n",
      "United States\n",
      "Expansion states\n",
      "Nonexpansion states\n",
      "/two.tab/zero.tab/two.tab/one.tab   /two.tab/zero.tab/two.tab/two.tab\n",
      "Question:CHANGES IN PUBLIC COVERAGE BY STATE FROM 2021 TO 2022?\n",
      "\n",
      "Helpful Answers:\n",
      " 1. In 2022, 13 states saw increases in public health insurance coverage, while only one state, Rhode Island, had a decrease.\n",
      " 2. The increased public coverage rate for the nation overall was 37.2 percent in 2022.\n",
      " 3. The changes in public health insurance coverage ranged from 0.6 percentage points to 2.3 percentage points across states.\n",
      " 4. Rhode Island reported a decrease in public coverage of 2.2 percentage points, which was driven by a decrease in people reporting Medicaid (2.3 percentage points).\n",
      "\n",
      "Explanation:\n",
      "The question asks for changes in public coverage by state from 2021 to 2022. The context provides information about the changes in public health insurance coverage for 13 states that saw increases and one state, Rhode Island, that had a decrease. The changes ranged from 0.6 percentage points to 2.3 percentage points across states. Rhode Island reported a decrease of 2.2 percentage points, which was driven by a decrease in people reporting Medicaid (2.3 percentage points). Therefore, the answer to the question is that 13 states saw increases in public coverage, while Rhode Island saw a decrease.\n"
     ]
    }
   ],
   "source": [
    "# Call the QA chain with our query.\n",
    "result = retrievalQA.invoke({\"query\": query})\n",
    "print(result['result'])\n"
   ]
  },
  {
   "cell_type": "code",
   "execution_count": null,
   "id": "a5fbddd1",
   "metadata": {},
   "outputs": [],
   "source": []
  }
 ],
 "metadata": {
  "kernelspec": {
   "display_name": "Python 3",
   "language": "python",
   "name": "python3"
  },
  "language_info": {
   "codemirror_mode": {
    "name": "ipython",
    "version": 3
   },
   "file_extension": ".py",
   "mimetype": "text/x-python",
   "name": "python",
   "nbconvert_exporter": "python",
   "pygments_lexer": "ipython3",
   "version": "3.10.0"
  }
 },
 "nbformat": 4,
 "nbformat_minor": 5
}
